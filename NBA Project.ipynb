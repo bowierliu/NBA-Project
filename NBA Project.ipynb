{
 "cells": [
  {
   "cell_type": "code",
   "execution_count": 1,
   "id": "4877d8dc",
   "metadata": {},
   "outputs": [],
   "source": [
    "import pandas as pd\n",
    "import matplotlib.pyplot as plt\n",
    "import numpy as np"
   ]
  },
  {
   "cell_type": "code",
   "execution_count": 2,
   "id": "9140d9f4",
   "metadata": {},
   "outputs": [],
   "source": [
    "nba = pd.read_csv('/Users/bowieliu/Downloads/NBA_Dataset.csv')"
   ]
  },
  {
   "cell_type": "code",
   "execution_count": 3,
   "id": "7da7c9b3",
   "metadata": {},
   "outputs": [
    {
     "data": {
      "text/html": [
       "<div>\n",
       "<style scoped>\n",
       "    .dataframe tbody tr th:only-of-type {\n",
       "        vertical-align: middle;\n",
       "    }\n",
       "\n",
       "    .dataframe tbody tr th {\n",
       "        vertical-align: top;\n",
       "    }\n",
       "\n",
       "    .dataframe thead th {\n",
       "        text-align: right;\n",
       "    }\n",
       "</style>\n",
       "<table border=\"1\" class=\"dataframe\">\n",
       "  <thead>\n",
       "    <tr style=\"text-align: right;\">\n",
       "      <th></th>\n",
       "      <th>Unnamed: 0</th>\n",
       "      <th>season</th>\n",
       "      <th>player</th>\n",
       "      <th>pos</th>\n",
       "      <th>age</th>\n",
       "      <th>team_id</th>\n",
       "      <th>g</th>\n",
       "      <th>gs</th>\n",
       "      <th>mp_per_g</th>\n",
       "      <th>fg_per_g</th>\n",
       "      <th>...</th>\n",
       "      <th>usg_pct</th>\n",
       "      <th>ows</th>\n",
       "      <th>dws</th>\n",
       "      <th>ws</th>\n",
       "      <th>ws_per_48</th>\n",
       "      <th>obpm</th>\n",
       "      <th>dbpm</th>\n",
       "      <th>bpm</th>\n",
       "      <th>vorp</th>\n",
       "      <th>award_share</th>\n",
       "    </tr>\n",
       "  </thead>\n",
       "  <tbody>\n",
       "    <tr>\n",
       "      <th>0</th>\n",
       "      <td>0</td>\n",
       "      <td>1982</td>\n",
       "      <td>Kareem Abdul-Jabbar*</td>\n",
       "      <td>C</td>\n",
       "      <td>34</td>\n",
       "      <td>LAL</td>\n",
       "      <td>76</td>\n",
       "      <td>76.0</td>\n",
       "      <td>35.2</td>\n",
       "      <td>9.9</td>\n",
       "      <td>...</td>\n",
       "      <td>25.6</td>\n",
       "      <td>6.9</td>\n",
       "      <td>3.9</td>\n",
       "      <td>10.7</td>\n",
       "      <td>0.192</td>\n",
       "      <td>3.8</td>\n",
       "      <td>1.2</td>\n",
       "      <td>5.0</td>\n",
       "      <td>4.7</td>\n",
       "      <td>0.0</td>\n",
       "    </tr>\n",
       "    <tr>\n",
       "      <th>1</th>\n",
       "      <td>1</td>\n",
       "      <td>1982</td>\n",
       "      <td>Alvan Adams</td>\n",
       "      <td>C</td>\n",
       "      <td>27</td>\n",
       "      <td>PHO</td>\n",
       "      <td>79</td>\n",
       "      <td>75.0</td>\n",
       "      <td>30.3</td>\n",
       "      <td>6.4</td>\n",
       "      <td>...</td>\n",
       "      <td>22.8</td>\n",
       "      <td>2.5</td>\n",
       "      <td>4.7</td>\n",
       "      <td>7.2</td>\n",
       "      <td>0.144</td>\n",
       "      <td>1.4</td>\n",
       "      <td>2.2</td>\n",
       "      <td>3.6</td>\n",
       "      <td>3.4</td>\n",
       "      <td>0.0</td>\n",
       "    </tr>\n",
       "    <tr>\n",
       "      <th>2</th>\n",
       "      <td>2</td>\n",
       "      <td>1982</td>\n",
       "      <td>Mark Aguirre</td>\n",
       "      <td>SF</td>\n",
       "      <td>22</td>\n",
       "      <td>DAL</td>\n",
       "      <td>51</td>\n",
       "      <td>20.0</td>\n",
       "      <td>28.8</td>\n",
       "      <td>7.5</td>\n",
       "      <td>...</td>\n",
       "      <td>29.8</td>\n",
       "      <td>1.0</td>\n",
       "      <td>0.8</td>\n",
       "      <td>1.9</td>\n",
       "      <td>0.061</td>\n",
       "      <td>2.3</td>\n",
       "      <td>-1.6</td>\n",
       "      <td>0.7</td>\n",
       "      <td>1.0</td>\n",
       "      <td>0.0</td>\n",
       "    </tr>\n",
       "    <tr>\n",
       "      <th>3</th>\n",
       "      <td>3</td>\n",
       "      <td>1982</td>\n",
       "      <td>Danny Ainge</td>\n",
       "      <td>SG</td>\n",
       "      <td>22</td>\n",
       "      <td>BOS</td>\n",
       "      <td>53</td>\n",
       "      <td>1.0</td>\n",
       "      <td>10.6</td>\n",
       "      <td>1.5</td>\n",
       "      <td>...</td>\n",
       "      <td>21.5</td>\n",
       "      <td>-0.3</td>\n",
       "      <td>0.8</td>\n",
       "      <td>0.5</td>\n",
       "      <td>0.042</td>\n",
       "      <td>-3.7</td>\n",
       "      <td>1.0</td>\n",
       "      <td>-2.7</td>\n",
       "      <td>-0.1</td>\n",
       "      <td>0.0</td>\n",
       "    </tr>\n",
       "    <tr>\n",
       "      <th>4</th>\n",
       "      <td>4</td>\n",
       "      <td>1982</td>\n",
       "      <td>Tiny Archibald*</td>\n",
       "      <td>PG</td>\n",
       "      <td>33</td>\n",
       "      <td>BOS</td>\n",
       "      <td>68</td>\n",
       "      <td>51.0</td>\n",
       "      <td>31.9</td>\n",
       "      <td>4.5</td>\n",
       "      <td>...</td>\n",
       "      <td>17.9</td>\n",
       "      <td>3.4</td>\n",
       "      <td>1.8</td>\n",
       "      <td>5.2</td>\n",
       "      <td>0.115</td>\n",
       "      <td>1.4</td>\n",
       "      <td>-1.3</td>\n",
       "      <td>0.1</td>\n",
       "      <td>1.1</td>\n",
       "      <td>0.0</td>\n",
       "    </tr>\n",
       "  </tbody>\n",
       "</table>\n",
       "<p>5 rows × 53 columns</p>\n",
       "</div>"
      ],
      "text/plain": [
       "   Unnamed: 0  season                player pos  age team_id   g    gs  \\\n",
       "0           0    1982  Kareem Abdul-Jabbar*   C   34     LAL  76  76.0   \n",
       "1           1    1982           Alvan Adams   C   27     PHO  79  75.0   \n",
       "2           2    1982          Mark Aguirre  SF   22     DAL  51  20.0   \n",
       "3           3    1982           Danny Ainge  SG   22     BOS  53   1.0   \n",
       "4           4    1982       Tiny Archibald*  PG   33     BOS  68  51.0   \n",
       "\n",
       "   mp_per_g  fg_per_g  ...  usg_pct  ows  dws    ws  ws_per_48  obpm  dbpm  \\\n",
       "0      35.2       9.9  ...     25.6  6.9  3.9  10.7      0.192   3.8   1.2   \n",
       "1      30.3       6.4  ...     22.8  2.5  4.7   7.2      0.144   1.4   2.2   \n",
       "2      28.8       7.5  ...     29.8  1.0  0.8   1.9      0.061   2.3  -1.6   \n",
       "3      10.6       1.5  ...     21.5 -0.3  0.8   0.5      0.042  -3.7   1.0   \n",
       "4      31.9       4.5  ...     17.9  3.4  1.8   5.2      0.115   1.4  -1.3   \n",
       "\n",
       "   bpm  vorp  award_share  \n",
       "0  5.0   4.7          0.0  \n",
       "1  3.6   3.4          0.0  \n",
       "2  0.7   1.0          0.0  \n",
       "3 -2.7  -0.1          0.0  \n",
       "4  0.1   1.1          0.0  \n",
       "\n",
       "[5 rows x 53 columns]"
      ]
     },
     "execution_count": 3,
     "metadata": {},
     "output_type": "execute_result"
    }
   ],
   "source": [
    "nba.head()\n",
    "#data contains all player statistics from 1982 to 2021"
   ]
  },
  {
   "cell_type": "code",
   "execution_count": 4,
   "id": "42455216",
   "metadata": {},
   "outputs": [
    {
     "data": {
      "text/html": [
       "<div>\n",
       "<style scoped>\n",
       "    .dataframe tbody tr th:only-of-type {\n",
       "        vertical-align: middle;\n",
       "    }\n",
       "\n",
       "    .dataframe tbody tr th {\n",
       "        vertical-align: top;\n",
       "    }\n",
       "\n",
       "    .dataframe thead th {\n",
       "        text-align: right;\n",
       "    }\n",
       "</style>\n",
       "<table border=\"1\" class=\"dataframe\">\n",
       "  <thead>\n",
       "    <tr style=\"text-align: right;\">\n",
       "      <th></th>\n",
       "      <th>season</th>\n",
       "      <th>fg3a_per_g</th>\n",
       "    </tr>\n",
       "  </thead>\n",
       "  <tbody>\n",
       "    <tr>\n",
       "      <th>0</th>\n",
       "      <td>1982</td>\n",
       "      <td>63.5</td>\n",
       "    </tr>\n",
       "    <tr>\n",
       "      <th>1</th>\n",
       "      <td>1983</td>\n",
       "      <td>63.8</td>\n",
       "    </tr>\n",
       "    <tr>\n",
       "      <th>2</th>\n",
       "      <td>1984</td>\n",
       "      <td>65.5</td>\n",
       "    </tr>\n",
       "    <tr>\n",
       "      <th>3</th>\n",
       "      <td>1985</td>\n",
       "      <td>87.1</td>\n",
       "    </tr>\n",
       "    <tr>\n",
       "      <th>4</th>\n",
       "      <td>1986</td>\n",
       "      <td>94.9</td>\n",
       "    </tr>\n",
       "  </tbody>\n",
       "</table>\n",
       "</div>"
      ],
      "text/plain": [
       "   season  fg3a_per_g\n",
       "0    1982        63.5\n",
       "1    1983        63.8\n",
       "2    1984        65.5\n",
       "3    1985        87.1\n",
       "4    1986        94.9"
      ]
     },
     "execution_count": 4,
     "metadata": {},
     "output_type": "execute_result"
    }
   ],
   "source": [
    "#Three pointers attempted over the years\n",
    "nba_season3 = nba.groupby('season').fg3a_per_g.sum().reset_index()\n",
    "nba_season3.head()"
   ]
  },
  {
   "cell_type": "code",
   "execution_count": 5,
   "id": "a1ed6f94",
   "metadata": {},
   "outputs": [
    {
     "data": {
      "text/html": [
       "<div>\n",
       "<style scoped>\n",
       "    .dataframe tbody tr th:only-of-type {\n",
       "        vertical-align: middle;\n",
       "    }\n",
       "\n",
       "    .dataframe tbody tr th {\n",
       "        vertical-align: top;\n",
       "    }\n",
       "\n",
       "    .dataframe thead th {\n",
       "        text-align: right;\n",
       "    }\n",
       "</style>\n",
       "<table border=\"1\" class=\"dataframe\">\n",
       "  <thead>\n",
       "    <tr style=\"text-align: right;\">\n",
       "      <th></th>\n",
       "      <th>season</th>\n",
       "      <th>fg2a_per_g</th>\n",
       "    </tr>\n",
       "  </thead>\n",
       "  <tbody>\n",
       "    <tr>\n",
       "      <th>0</th>\n",
       "      <td>1982</td>\n",
       "      <td>2346.0</td>\n",
       "    </tr>\n",
       "    <tr>\n",
       "      <th>1</th>\n",
       "      <td>1983</td>\n",
       "      <td>2390.8</td>\n",
       "    </tr>\n",
       "    <tr>\n",
       "      <th>2</th>\n",
       "      <td>1984</td>\n",
       "      <td>2257.4</td>\n",
       "    </tr>\n",
       "    <tr>\n",
       "      <th>3</th>\n",
       "      <td>1985</td>\n",
       "      <td>2364.6</td>\n",
       "    </tr>\n",
       "    <tr>\n",
       "      <th>4</th>\n",
       "      <td>1986</td>\n",
       "      <td>2395.2</td>\n",
       "    </tr>\n",
       "  </tbody>\n",
       "</table>\n",
       "</div>"
      ],
      "text/plain": [
       "   season  fg2a_per_g\n",
       "0    1982      2346.0\n",
       "1    1983      2390.8\n",
       "2    1984      2257.4\n",
       "3    1985      2364.6\n",
       "4    1986      2395.2"
      ]
     },
     "execution_count": 5,
     "metadata": {},
     "output_type": "execute_result"
    }
   ],
   "source": [
    "#Two pointers attempted over the years\n",
    "nba_season2 = nba.groupby('season').fg2a_per_g.sum().reset_index()\n",
    "nba_season2.head()"
   ]
  },
  {
   "cell_type": "code",
   "execution_count": 6,
   "id": "eaf7f3a0",
   "metadata": {},
   "outputs": [
    {
     "data": {
      "text/plain": [
       "<matplotlib.legend.Legend at 0x7fd776f85bb0>"
      ]
     },
     "execution_count": 6,
     "metadata": {},
     "output_type": "execute_result"
    },
    {
     "data": {
      "image/png": "[encoded data removed]",
      "text/plain": [
       "<Figure size 432x288 with 1 Axes>"
      ]
     },
     "metadata": {
      "needs_background": "light"
     },
     "output_type": "display_data"
    }
   ],
   "source": [
    "#Graph of 3's over the years\n",
    "plt.plot(nba_season3['season'], nba_season3['fg3a_per_g'], label = \"3 pt\")\n",
    "plt.plot(nba_season2['season'], nba_season2['fg2a_per_g'], label = \"2 pt\")\n",
    "plt.title(\"2's and 3's Attempted over the Seasons\")\n",
    "plt.xlabel(\"Season\")\n",
    "plt.ylabel(\"Total 2 and 3 Pointers Attempted\")\n",
    "plt.legend()\n",
    "#2's stay relatively constant and 3's increases draastically over the years"
   ]
  },
  {
   "cell_type": "code",
   "execution_count": 7,
   "id": "bb0dad46",
   "metadata": {},
   "outputs": [],
   "source": [
    "#Increase of 3's over each decade\n",
    "decade82_90 = nba.loc[(nba['season'] >= 1982) & (nba['season'] <= 1989), ['player', 'season', 'fg3a_per_g']]\n",
    "decade90_99 = nba.loc[(nba['season'] >= 1990) & (nba['season'] <= 1999), ['player', 'season', 'fg3a_per_g']]\n",
    "decade00_09 = nba.loc[(nba['season'] >= 2000) & (nba['season'] <= 2009), ['player', 'season', 'fg3a_per_g']]\n",
    "decade10_19 = nba.loc[(nba['season'] >= 2010) & (nba['season'] <= 2019), ['player', 'season', 'fg3a_per_g']]\n",
    "decade20_21 = nba.loc[(nba['season'] >= 2020) & (nba['season'] <= 2021), ['player', 'season', 'fg3a_per_g']]"
   ]
  },
  {
   "cell_type": "code",
   "execution_count": 8,
   "id": "8550bc91",
   "metadata": {},
   "outputs": [
    {
     "data": {
      "text/plain": [
       "842.4000000000001"
      ]
     },
     "execution_count": 8,
     "metadata": {},
     "output_type": "execute_result"
    }
   ],
   "source": [
    "#number of 3's attempted from 1982 to 1990\n",
    "total3_82_90 = decade82_90.fg3a_per_g.sum()\n",
    "total3_82_90"
   ]
  },
  {
   "cell_type": "code",
   "execution_count": 9,
   "id": "48902286",
   "metadata": {},
   "outputs": [
    {
     "data": {
      "text/plain": [
       "3989.2999999999997"
      ]
     },
     "execution_count": 9,
     "metadata": {},
     "output_type": "execute_result"
    }
   ],
   "source": [
    "#number of 3's attempted from 1990 to 1999\n",
    "total3_90_99 = decade90_99.fg3a_per_g.sum()\n",
    "total3_90_99"
   ]
  },
  {
   "cell_type": "code",
   "execution_count": 10,
   "id": "849bda8b",
   "metadata": {},
   "outputs": [
    {
     "data": {
      "text/plain": [
       "5817.799999999999"
      ]
     },
     "execution_count": 10,
     "metadata": {},
     "output_type": "execute_result"
    }
   ],
   "source": [
    "#number of 3's attempted from 2000 to 2009\n",
    "total3_00_09 = decade00_09.fg3a_per_g.sum()\n",
    "total3_00_09"
   ]
  },
  {
   "cell_type": "code",
   "execution_count": 11,
   "id": "62355e18",
   "metadata": {},
   "outputs": [
    {
     "data": {
      "text/plain": [
       "9253.3"
      ]
     },
     "execution_count": 11,
     "metadata": {},
     "output_type": "execute_result"
    }
   ],
   "source": [
    "#number of 3's attempted from 2010 to 2019\n",
    "total3_10_19 = decade10_19.fg3a_per_g.sum()\n",
    "total3_10_19"
   ]
  },
  {
   "cell_type": "code",
   "execution_count": 12,
   "id": "58443f0a",
   "metadata": {},
   "outputs": [
    {
     "data": {
      "text/plain": [
       "2947.8"
      ]
     },
     "execution_count": 12,
     "metadata": {},
     "output_type": "execute_result"
    }
   ],
   "source": [
    "#number of 3's attempted from 2020 to 2021\n",
    "total3_20_21 = decade20_21.fg3a_per_g.sum()\n",
    "total3_20_21"
   ]
  },
  {
   "cell_type": "code",
   "execution_count": 13,
   "id": "21fc9888",
   "metadata": {},
   "outputs": [],
   "source": [
    "#3pt taken increase drastically each decade\n",
    "#Even with shorten covid season during 2020, the total 3pt taken in 2020 and 2021 combined is more than 3 times of 3pt taken from 1982 to 1990"
   ]
  },
  {
   "cell_type": "code",
   "execution_count": 14,
   "id": "459f0f75",
   "metadata": {},
   "outputs": [
    {
     "data": {
      "text/html": [
       "<div>\n",
       "<style scoped>\n",
       "    .dataframe tbody tr th:only-of-type {\n",
       "        vertical-align: middle;\n",
       "    }\n",
       "\n",
       "    .dataframe tbody tr th {\n",
       "        vertical-align: top;\n",
       "    }\n",
       "\n",
       "    .dataframe thead th {\n",
       "        text-align: right;\n",
       "    }\n",
       "</style>\n",
       "<table border=\"1\" class=\"dataframe\">\n",
       "  <thead>\n",
       "    <tr style=\"text-align: right;\">\n",
       "      <th></th>\n",
       "      <th>player</th>\n",
       "      <th>fg3a_per_g</th>\n",
       "    </tr>\n",
       "  </thead>\n",
       "  <tbody>\n",
       "    <tr>\n",
       "      <th>2770</th>\n",
       "      <td>Stephen Curry</td>\n",
       "      <td>8.583333</td>\n",
       "    </tr>\n",
       "    <tr>\n",
       "      <th>617</th>\n",
       "      <td>Damian Lillard</td>\n",
       "      <td>8.111111</td>\n",
       "    </tr>\n",
       "    <tr>\n",
       "      <th>1933</th>\n",
       "      <td>Luka Dončić</td>\n",
       "      <td>8.100000</td>\n",
       "    </tr>\n",
       "    <tr>\n",
       "      <th>188</th>\n",
       "      <td>Armoni Brooks</td>\n",
       "      <td>7.900000</td>\n",
       "    </tr>\n",
       "    <tr>\n",
       "      <th>1308</th>\n",
       "      <td>James Harden</td>\n",
       "      <td>7.683333</td>\n",
       "    </tr>\n",
       "  </tbody>\n",
       "</table>\n",
       "</div>"
      ],
      "text/plain": [
       "              player  fg3a_per_g\n",
       "2770   Stephen Curry    8.583333\n",
       "617   Damian Lillard    8.111111\n",
       "1933     Luka Dončić    8.100000\n",
       "188    Armoni Brooks    7.900000\n",
       "1308    James Harden    7.683333"
      ]
     },
     "execution_count": 14,
     "metadata": {},
     "output_type": "execute_result"
    }
   ],
   "source": [
    "#player that attempted the most 3pt per game\n",
    "player_3_att = nba.groupby('player').fg3a_per_g.mean().reset_index().sort_values('fg3a_per_g', ascending=False)\n",
    "player_3_att.head()"
   ]
  },
  {
   "cell_type": "code",
   "execution_count": 15,
   "id": "ee9c3893",
   "metadata": {},
   "outputs": [
    {
     "data": {
      "text/html": [
       "<div>\n",
       "<style scoped>\n",
       "    .dataframe tbody tr th:only-of-type {\n",
       "        vertical-align: middle;\n",
       "    }\n",
       "\n",
       "    .dataframe tbody tr th {\n",
       "        vertical-align: top;\n",
       "    }\n",
       "\n",
       "    .dataframe thead th {\n",
       "        text-align: right;\n",
       "    }\n",
       "</style>\n",
       "<table border=\"1\" class=\"dataframe\">\n",
       "  <thead>\n",
       "    <tr style=\"text-align: right;\">\n",
       "      <th></th>\n",
       "      <th>player</th>\n",
       "      <th>fg3_per_g</th>\n",
       "    </tr>\n",
       "  </thead>\n",
       "  <tbody>\n",
       "    <tr>\n",
       "      <th>2770</th>\n",
       "      <td>Stephen Curry</td>\n",
       "      <td>3.566667</td>\n",
       "    </tr>\n",
       "    <tr>\n",
       "      <th>617</th>\n",
       "      <td>Damian Lillard</td>\n",
       "      <td>3.077778</td>\n",
       "    </tr>\n",
       "    <tr>\n",
       "      <th>372</th>\n",
       "      <td>Buddy Hield</td>\n",
       "      <td>3.040000</td>\n",
       "    </tr>\n",
       "    <tr>\n",
       "      <th>188</th>\n",
       "      <td>Armoni Brooks</td>\n",
       "      <td>3.000000</td>\n",
       "    </tr>\n",
       "    <tr>\n",
       "      <th>1796</th>\n",
       "      <td>Klay Thompson</td>\n",
       "      <td>2.912500</td>\n",
       "    </tr>\n",
       "  </tbody>\n",
       "</table>\n",
       "</div>"
      ],
      "text/plain": [
       "              player  fg3_per_g\n",
       "2770   Stephen Curry   3.566667\n",
       "617   Damian Lillard   3.077778\n",
       "372      Buddy Hield   3.040000\n",
       "188    Armoni Brooks   3.000000\n",
       "1796   Klay Thompson   2.912500"
      ]
     },
     "execution_count": 15,
     "metadata": {},
     "output_type": "execute_result"
    }
   ],
   "source": [
    "#player that make the most 3pt per game on average\n",
    "player_3_make = nba.groupby('player').fg3_per_g.mean().reset_index().sort_values('fg3_per_g', ascending=False)\n",
    "player_3_make.head()"
   ]
  },
  {
   "cell_type": "code",
   "execution_count": 16,
   "id": "f2518f4e",
   "metadata": {},
   "outputs": [
    {
     "data": {
      "text/html": [
       "<div>\n",
       "<style scoped>\n",
       "    .dataframe tbody tr th:only-of-type {\n",
       "        vertical-align: middle;\n",
       "    }\n",
       "\n",
       "    .dataframe tbody tr th {\n",
       "        vertical-align: top;\n",
       "    }\n",
       "\n",
       "    .dataframe thead th {\n",
       "        text-align: right;\n",
       "    }\n",
       "</style>\n",
       "<table border=\"1\" class=\"dataframe\">\n",
       "  <thead>\n",
       "    <tr style=\"text-align: right;\">\n",
       "      <th></th>\n",
       "      <th>team_id</th>\n",
       "      <th>fg3a_per_g</th>\n",
       "    </tr>\n",
       "  </thead>\n",
       "  <tbody>\n",
       "    <tr>\n",
       "      <th>6</th>\n",
       "      <td>CHO</td>\n",
       "      <td>2.398077</td>\n",
       "    </tr>\n",
       "    <tr>\n",
       "      <th>2</th>\n",
       "      <td>BRK</td>\n",
       "      <td>2.366438</td>\n",
       "    </tr>\n",
       "    <tr>\n",
       "      <th>24</th>\n",
       "      <td>NOP</td>\n",
       "      <td>2.251220</td>\n",
       "    </tr>\n",
       "    <tr>\n",
       "      <th>26</th>\n",
       "      <td>OKC</td>\n",
       "      <td>1.955851</td>\n",
       "    </tr>\n",
       "    <tr>\n",
       "      <th>35</th>\n",
       "      <td>TOR</td>\n",
       "      <td>1.710112</td>\n",
       "    </tr>\n",
       "  </tbody>\n",
       "</table>\n",
       "</div>"
      ],
      "text/plain": [
       "   team_id  fg3a_per_g\n",
       "6      CHO    2.398077\n",
       "2      BRK    2.366438\n",
       "24     NOP    2.251220\n",
       "26     OKC    1.955851\n",
       "35     TOR    1.710112"
      ]
     },
     "execution_count": 16,
     "metadata": {},
     "output_type": "execute_result"
    }
   ],
   "source": [
    "#teams that attempted the most 3's\n",
    "team_3_att = nba.groupby('team_id').fg3a_per_g.mean().reset_index().sort_values('fg3a_per_g', ascending=False)\n",
    "team_3_att.head()"
   ]
  },
  {
   "cell_type": "code",
   "execution_count": 17,
   "id": "9dcf87d1",
   "metadata": {},
   "outputs": [
    {
     "data": {
      "text/html": [
       "<div>\n",
       "<style scoped>\n",
       "    .dataframe tbody tr th:only-of-type {\n",
       "        vertical-align: middle;\n",
       "    }\n",
       "\n",
       "    .dataframe tbody tr th {\n",
       "        vertical-align: top;\n",
       "    }\n",
       "\n",
       "    .dataframe thead th {\n",
       "        text-align: right;\n",
       "    }\n",
       "</style>\n",
       "<table border=\"1\" class=\"dataframe\">\n",
       "  <thead>\n",
       "    <tr style=\"text-align: right;\">\n",
       "      <th></th>\n",
       "      <th>team_id</th>\n",
       "      <th>fg3_per_g</th>\n",
       "    </tr>\n",
       "  </thead>\n",
       "  <tbody>\n",
       "    <tr>\n",
       "      <th>6</th>\n",
       "      <td>CHO</td>\n",
       "      <td>0.843269</td>\n",
       "    </tr>\n",
       "    <tr>\n",
       "      <th>2</th>\n",
       "      <td>BRK</td>\n",
       "      <td>0.815753</td>\n",
       "    </tr>\n",
       "    <tr>\n",
       "      <th>24</th>\n",
       "      <td>NOP</td>\n",
       "      <td>0.795935</td>\n",
       "    </tr>\n",
       "    <tr>\n",
       "      <th>26</th>\n",
       "      <td>OKC</td>\n",
       "      <td>0.674468</td>\n",
       "    </tr>\n",
       "    <tr>\n",
       "      <th>35</th>\n",
       "      <td>TOR</td>\n",
       "      <td>0.610112</td>\n",
       "    </tr>\n",
       "  </tbody>\n",
       "</table>\n",
       "</div>"
      ],
      "text/plain": [
       "   team_id  fg3_per_g\n",
       "6      CHO   0.843269\n",
       "2      BRK   0.815753\n",
       "24     NOP   0.795935\n",
       "26     OKC   0.674468\n",
       "35     TOR   0.610112"
      ]
     },
     "execution_count": 17,
     "metadata": {},
     "output_type": "execute_result"
    }
   ],
   "source": [
    "#teams that make the most 3's\n",
    "team_3_make = nba.groupby('team_id').fg3_per_g.mean().reset_index().sort_values('fg3_per_g', ascending=False)\n",
    "team_3_make.head()"
   ]
  },
  {
   "cell_type": "code",
   "execution_count": 18,
   "id": "06b1cbce",
   "metadata": {},
   "outputs": [
    {
     "data": {
      "text/html": [
       "<div>\n",
       "<style scoped>\n",
       "    .dataframe tbody tr th:only-of-type {\n",
       "        vertical-align: middle;\n",
       "    }\n",
       "\n",
       "    .dataframe tbody tr th {\n",
       "        vertical-align: top;\n",
       "    }\n",
       "\n",
       "    .dataframe thead th {\n",
       "        text-align: right;\n",
       "    }\n",
       "</style>\n",
       "<table border=\"1\" class=\"dataframe\">\n",
       "  <thead>\n",
       "    <tr style=\"text-align: right;\">\n",
       "      <th></th>\n",
       "      <th>Unnamed: 0</th>\n",
       "      <th>season</th>\n",
       "      <th>player</th>\n",
       "      <th>pos</th>\n",
       "      <th>age</th>\n",
       "      <th>team_id</th>\n",
       "      <th>g</th>\n",
       "      <th>gs</th>\n",
       "      <th>mp_per_g</th>\n",
       "      <th>fg_per_g</th>\n",
       "      <th>...</th>\n",
       "      <th>usg_pct</th>\n",
       "      <th>ows</th>\n",
       "      <th>dws</th>\n",
       "      <th>ws</th>\n",
       "      <th>ws_per_48</th>\n",
       "      <th>obpm</th>\n",
       "      <th>dbpm</th>\n",
       "      <th>bpm</th>\n",
       "      <th>vorp</th>\n",
       "      <th>award_share</th>\n",
       "    </tr>\n",
       "  </thead>\n",
       "  <tbody>\n",
       "    <tr>\n",
       "      <th>0</th>\n",
       "      <td>0</td>\n",
       "      <td>1982</td>\n",
       "      <td>Kareem Abdul-Jabbar*</td>\n",
       "      <td>C</td>\n",
       "      <td>34</td>\n",
       "      <td>LAL</td>\n",
       "      <td>76</td>\n",
       "      <td>76.0</td>\n",
       "      <td>35.2</td>\n",
       "      <td>9.9</td>\n",
       "      <td>...</td>\n",
       "      <td>25.6</td>\n",
       "      <td>6.9</td>\n",
       "      <td>3.9</td>\n",
       "      <td>10.7</td>\n",
       "      <td>0.192</td>\n",
       "      <td>3.8</td>\n",
       "      <td>1.2</td>\n",
       "      <td>5.0</td>\n",
       "      <td>4.7</td>\n",
       "      <td>0.0</td>\n",
       "    </tr>\n",
       "    <tr>\n",
       "      <th>1</th>\n",
       "      <td>1</td>\n",
       "      <td>1982</td>\n",
       "      <td>Alvan Adams</td>\n",
       "      <td>C</td>\n",
       "      <td>27</td>\n",
       "      <td>PHO</td>\n",
       "      <td>79</td>\n",
       "      <td>75.0</td>\n",
       "      <td>30.3</td>\n",
       "      <td>6.4</td>\n",
       "      <td>...</td>\n",
       "      <td>22.8</td>\n",
       "      <td>2.5</td>\n",
       "      <td>4.7</td>\n",
       "      <td>7.2</td>\n",
       "      <td>0.144</td>\n",
       "      <td>1.4</td>\n",
       "      <td>2.2</td>\n",
       "      <td>3.6</td>\n",
       "      <td>3.4</td>\n",
       "      <td>0.0</td>\n",
       "    </tr>\n",
       "    <tr>\n",
       "      <th>5</th>\n",
       "      <td>5</td>\n",
       "      <td>1982</td>\n",
       "      <td>Dennis Awtrey</td>\n",
       "      <td>C</td>\n",
       "      <td>33</td>\n",
       "      <td>POR</td>\n",
       "      <td>10</td>\n",
       "      <td>3.0</td>\n",
       "      <td>12.1</td>\n",
       "      <td>0.5</td>\n",
       "      <td>...</td>\n",
       "      <td>8.5</td>\n",
       "      <td>-0.1</td>\n",
       "      <td>0.0</td>\n",
       "      <td>0.0</td>\n",
       "      <td>-0.013</td>\n",
       "      <td>-4.8</td>\n",
       "      <td>-0.3</td>\n",
       "      <td>-5.1</td>\n",
       "      <td>-0.1</td>\n",
       "      <td>0.0</td>\n",
       "    </tr>\n",
       "    <tr>\n",
       "      <th>6</th>\n",
       "      <td>6</td>\n",
       "      <td>1982</td>\n",
       "      <td>Carl Bailey</td>\n",
       "      <td>C</td>\n",
       "      <td>23</td>\n",
       "      <td>POR</td>\n",
       "      <td>1</td>\n",
       "      <td>0.0</td>\n",
       "      <td>7.0</td>\n",
       "      <td>1.0</td>\n",
       "      <td>...</td>\n",
       "      <td>17.6</td>\n",
       "      <td>0.0</td>\n",
       "      <td>0.0</td>\n",
       "      <td>0.0</td>\n",
       "      <td>-0.268</td>\n",
       "      <td>-5.0</td>\n",
       "      <td>-0.1</td>\n",
       "      <td>-5.1</td>\n",
       "      <td>0.0</td>\n",
       "      <td>0.0</td>\n",
       "    </tr>\n",
       "    <tr>\n",
       "      <th>7</th>\n",
       "      <td>7</td>\n",
       "      <td>1982</td>\n",
       "      <td>James Bailey</td>\n",
       "      <td>PF</td>\n",
       "      <td>24</td>\n",
       "      <td>TOT</td>\n",
       "      <td>77</td>\n",
       "      <td>0.0</td>\n",
       "      <td>19.1</td>\n",
       "      <td>3.4</td>\n",
       "      <td>...</td>\n",
       "      <td>20.3</td>\n",
       "      <td>0.2</td>\n",
       "      <td>2.7</td>\n",
       "      <td>2.9</td>\n",
       "      <td>0.094</td>\n",
       "      <td>-3.0</td>\n",
       "      <td>1.0</td>\n",
       "      <td>-2.0</td>\n",
       "      <td>0.0</td>\n",
       "      <td>0.0</td>\n",
       "    </tr>\n",
       "  </tbody>\n",
       "</table>\n",
       "<p>5 rows × 53 columns</p>\n",
       "</div>"
      ],
      "text/plain": [
       "   Unnamed: 0  season                player pos  age team_id   g    gs  \\\n",
       "0           0    1982  Kareem Abdul-Jabbar*   C   34     LAL  76  76.0   \n",
       "1           1    1982           Alvan Adams   C   27     PHO  79  75.0   \n",
       "5           5    1982         Dennis Awtrey   C   33     POR  10   3.0   \n",
       "6           6    1982           Carl Bailey   C   23     POR   1   0.0   \n",
       "7           7    1982          James Bailey  PF   24     TOT  77   0.0   \n",
       "\n",
       "   mp_per_g  fg_per_g  ...  usg_pct  ows  dws    ws  ws_per_48  obpm  dbpm  \\\n",
       "0      35.2       9.9  ...     25.6  6.9  3.9  10.7      0.192   3.8   1.2   \n",
       "1      30.3       6.4  ...     22.8  2.5  4.7   7.2      0.144   1.4   2.2   \n",
       "5      12.1       0.5  ...      8.5 -0.1  0.0   0.0     -0.013  -4.8  -0.3   \n",
       "6       7.0       1.0  ...     17.6  0.0  0.0   0.0     -0.268  -5.0  -0.1   \n",
       "7      19.1       3.4  ...     20.3  0.2  2.7   2.9      0.094  -3.0   1.0   \n",
       "\n",
       "   bpm  vorp  award_share  \n",
       "0  5.0   4.7          0.0  \n",
       "1  3.6   3.4          0.0  \n",
       "5 -5.1  -0.1          0.0  \n",
       "6 -5.1   0.0          0.0  \n",
       "7 -2.0   0.0          0.0  \n",
       "\n",
       "[5 rows x 53 columns]"
      ]
     },
     "execution_count": 18,
     "metadata": {},
     "output_type": "execute_result"
    }
   ],
   "source": [
    "#big man taking more 3's?\n",
    "nba_big = nba.loc[(nba['pos'] == 'C') | (nba['pos'] == 'PF')]\n",
    "nba_big.head()"
   ]
  },
  {
   "cell_type": "code",
   "execution_count": 19,
   "id": "7f549a8f",
   "metadata": {},
   "outputs": [
    {
     "data": {
      "text/html": [
       "<div>\n",
       "<style scoped>\n",
       "    .dataframe tbody tr th:only-of-type {\n",
       "        vertical-align: middle;\n",
       "    }\n",
       "\n",
       "    .dataframe tbody tr th {\n",
       "        vertical-align: top;\n",
       "    }\n",
       "\n",
       "    .dataframe thead th {\n",
       "        text-align: right;\n",
       "    }\n",
       "</style>\n",
       "<table border=\"1\" class=\"dataframe\">\n",
       "  <thead>\n",
       "    <tr style=\"text-align: right;\">\n",
       "      <th></th>\n",
       "      <th>season</th>\n",
       "      <th>fg3a_per_g</th>\n",
       "    </tr>\n",
       "  </thead>\n",
       "  <tbody>\n",
       "    <tr>\n",
       "      <th>0</th>\n",
       "      <td>1982</td>\n",
       "      <td>3.9</td>\n",
       "    </tr>\n",
       "    <tr>\n",
       "      <th>1</th>\n",
       "      <td>1983</td>\n",
       "      <td>6.0</td>\n",
       "    </tr>\n",
       "    <tr>\n",
       "      <th>2</th>\n",
       "      <td>1984</td>\n",
       "      <td>5.6</td>\n",
       "    </tr>\n",
       "    <tr>\n",
       "      <th>3</th>\n",
       "      <td>1985</td>\n",
       "      <td>4.6</td>\n",
       "    </tr>\n",
       "    <tr>\n",
       "      <th>4</th>\n",
       "      <td>1986</td>\n",
       "      <td>7.2</td>\n",
       "    </tr>\n",
       "  </tbody>\n",
       "</table>\n",
       "</div>"
      ],
      "text/plain": [
       "   season  fg3a_per_g\n",
       "0    1982         3.9\n",
       "1    1983         6.0\n",
       "2    1984         5.6\n",
       "3    1985         4.6\n",
       "4    1986         7.2"
      ]
     },
     "execution_count": 19,
     "metadata": {},
     "output_type": "execute_result"
    }
   ],
   "source": [
    "nba_big3 = nba_big.groupby('season').fg3a_per_g.sum().reset_index()\n",
    "nba_big3.head()"
   ]
  },
  {
   "cell_type": "code",
   "execution_count": 20,
   "id": "463d34a4",
   "metadata": {},
   "outputs": [
    {
     "data": {
      "text/plain": [
       "Text(0, 0.5, 'Total 3 Pointers Attempted')"
      ]
     },
     "execution_count": 20,
     "metadata": {},
     "output_type": "execute_result"
    },
    {
     "data": {
      "image/png": "[encoded data removed]",
      "text/plain": [
       "<Figure size 432x288 with 1 Axes>"
      ]
     },
     "metadata": {
      "needs_background": "light"
     },
     "output_type": "display_data"
    }
   ],
   "source": [
    "plt.plot(nba_big3['season'], nba_big3['fg3a_per_g'], label = \"3 pt\")\n",
    "plt.title(\"3's Attempted over the Seasons By C and PF\")\n",
    "plt.xlabel(\"Season\")\n",
    "plt.ylabel(\"Total 3 Pointers Attempted\")\n",
    "#The total 3 pointers attempted by Bigs increase significantly as well over the years"
   ]
  },
  {
   "cell_type": "code",
   "execution_count": 21,
   "id": "4a2e8eaa",
   "metadata": {},
   "outputs": [
    {
     "data": {
      "text/html": [
       "<div>\n",
       "<style scoped>\n",
       "    .dataframe tbody tr th:only-of-type {\n",
       "        vertical-align: middle;\n",
       "    }\n",
       "\n",
       "    .dataframe tbody tr th {\n",
       "        vertical-align: top;\n",
       "    }\n",
       "\n",
       "    .dataframe thead th {\n",
       "        text-align: right;\n",
       "    }\n",
       "</style>\n",
       "<table border=\"1\" class=\"dataframe\">\n",
       "  <thead>\n",
       "    <tr style=\"text-align: right;\">\n",
       "      <th></th>\n",
       "      <th>player</th>\n",
       "      <th>fg3a_per_g</th>\n",
       "    </tr>\n",
       "  </thead>\n",
       "  <tbody>\n",
       "    <tr>\n",
       "      <th>366</th>\n",
       "      <td>Dirk Nowitzki</td>\n",
       "      <td>71.4</td>\n",
       "    </tr>\n",
       "    <tr>\n",
       "      <th>758</th>\n",
       "      <td>Kevin Love</td>\n",
       "      <td>64.6</td>\n",
       "    </tr>\n",
       "    <tr>\n",
       "      <th>1130</th>\n",
       "      <td>Ryan Anderson</td>\n",
       "      <td>60.3</td>\n",
       "    </tr>\n",
       "    <tr>\n",
       "      <th>76</th>\n",
       "      <td>Antoine Walker</td>\n",
       "      <td>56.9</td>\n",
       "    </tr>\n",
       "    <tr>\n",
       "      <th>1060</th>\n",
       "      <td>Rasheed Wallace</td>\n",
       "      <td>45.5</td>\n",
       "    </tr>\n",
       "  </tbody>\n",
       "</table>\n",
       "</div>"
      ],
      "text/plain": [
       "               player  fg3a_per_g\n",
       "366     Dirk Nowitzki        71.4\n",
       "758        Kevin Love        64.6\n",
       "1130    Ryan Anderson        60.3\n",
       "76     Antoine Walker        56.9\n",
       "1060  Rasheed Wallace        45.5"
      ]
     },
     "execution_count": 21,
     "metadata": {},
     "output_type": "execute_result"
    }
   ],
   "source": [
    "#big man takes the most 3's\n",
    "nba_big_most3 = nba_big.groupby('player').fg3a_per_g.sum().reset_index().sort_values('fg3a_per_g', ascending=False)\n",
    "nba_big_most3.head()"
   ]
  },
  {
   "cell_type": "code",
   "execution_count": null,
   "id": "28ce0645",
   "metadata": {},
   "outputs": [],
   "source": [
    "#I want to find the most efficient player in NBA history.\n",
    "#To do that, I need to exclude players that play under certain minutes\n",
    "#Then, I can find the actual most efficient player"
   ]
  },
  {
   "cell_type": "code",
   "execution_count": 38,
   "id": "40b7a9d5",
   "metadata": {},
   "outputs": [
    {
     "data": {
      "text/plain": [
       "1268.6552188158203"
      ]
     },
     "execution_count": 38,
     "metadata": {},
     "output_type": "execute_result"
    }
   ],
   "source": [
    "#average minute played\n",
    "nba_min = nba.mp.mean()\n",
    "nba_min\n",
    "#average min played per season is 1269 min"
   ]
  },
  {
   "cell_type": "code",
   "execution_count": 42,
   "id": "3a5c7296",
   "metadata": {},
   "outputs": [
    {
     "data": {
      "text/html": [
       "<div>\n",
       "<style scoped>\n",
       "    .dataframe tbody tr th:only-of-type {\n",
       "        vertical-align: middle;\n",
       "    }\n",
       "\n",
       "    .dataframe tbody tr th {\n",
       "        vertical-align: top;\n",
       "    }\n",
       "\n",
       "    .dataframe thead th {\n",
       "        text-align: right;\n",
       "    }\n",
       "</style>\n",
       "<table border=\"1\" class=\"dataframe\">\n",
       "  <thead>\n",
       "    <tr style=\"text-align: right;\">\n",
       "      <th></th>\n",
       "      <th>player</th>\n",
       "      <th>per</th>\n",
       "    </tr>\n",
       "  </thead>\n",
       "  <tbody>\n",
       "    <tr>\n",
       "      <th>0</th>\n",
       "      <td>Kareem Abdul-Jabbar*</td>\n",
       "      <td>23.4</td>\n",
       "    </tr>\n",
       "    <tr>\n",
       "      <th>1</th>\n",
       "      <td>Alvan Adams</td>\n",
       "      <td>18.6</td>\n",
       "    </tr>\n",
       "    <tr>\n",
       "      <th>2</th>\n",
       "      <td>Mark Aguirre</td>\n",
       "      <td>17.3</td>\n",
       "    </tr>\n",
       "    <tr>\n",
       "      <th>4</th>\n",
       "      <td>Tiny Archibald*</td>\n",
       "      <td>14.3</td>\n",
       "    </tr>\n",
       "    <tr>\n",
       "      <th>7</th>\n",
       "      <td>James Bailey</td>\n",
       "      <td>13.3</td>\n",
       "    </tr>\n",
       "  </tbody>\n",
       "</table>\n",
       "</div>"
      ],
      "text/plain": [
       "                 player   per\n",
       "0  Kareem Abdul-Jabbar*  23.4\n",
       "1           Alvan Adams  18.6\n",
       "2          Mark Aguirre  17.3\n",
       "4       Tiny Archibald*  14.3\n",
       "7          James Bailey  13.3"
      ]
     },
     "execution_count": 42,
     "metadata": {},
     "output_type": "execute_result"
    }
   ],
   "source": [
    "#player above min played\n",
    "nba_min_over = nba.loc[nba['mp'] >= 1269, ['player', 'per']]\n",
    "nba_min_over.head()\n",
    "#we want players that played over the average minutes per season to be subset for player efficiency rating"
   ]
  },
  {
   "cell_type": "code",
   "execution_count": 44,
   "id": "9e319663",
   "metadata": {},
   "outputs": [
    {
     "data": {
      "text/html": [
       "<div>\n",
       "<style scoped>\n",
       "    .dataframe tbody tr th:only-of-type {\n",
       "        vertical-align: middle;\n",
       "    }\n",
       "\n",
       "    .dataframe tbody tr th {\n",
       "        vertical-align: top;\n",
       "    }\n",
       "\n",
       "    .dataframe thead th {\n",
       "        text-align: right;\n",
       "    }\n",
       "</style>\n",
       "<table border=\"1\" class=\"dataframe\">\n",
       "  <thead>\n",
       "    <tr style=\"text-align: right;\">\n",
       "      <th></th>\n",
       "      <th>player</th>\n",
       "      <th>per</th>\n",
       "    </tr>\n",
       "  </thead>\n",
       "  <tbody>\n",
       "    <tr>\n",
       "      <th>1008</th>\n",
       "      <td>Michael Jordan*</td>\n",
       "      <td>27.769231</td>\n",
       "    </tr>\n",
       "    <tr>\n",
       "      <th>889</th>\n",
       "      <td>LeBron James</td>\n",
       "      <td>27.316667</td>\n",
       "    </tr>\n",
       "    <tr>\n",
       "      <th>68</th>\n",
       "      <td>Anthony Davis</td>\n",
       "      <td>27.262500</td>\n",
       "    </tr>\n",
       "    <tr>\n",
       "      <th>1500</th>\n",
       "      <td>Zion Williamson</td>\n",
       "      <td>27.100000</td>\n",
       "    </tr>\n",
       "    <tr>\n",
       "      <th>1291</th>\n",
       "      <td>Shaquille O'Neal*</td>\n",
       "      <td>26.756250</td>\n",
       "    </tr>\n",
       "    <tr>\n",
       "      <th>716</th>\n",
       "      <td>Joel Embiid</td>\n",
       "      <td>26.275000</td>\n",
       "    </tr>\n",
       "    <tr>\n",
       "      <th>1080</th>\n",
       "      <td>Nikola Jokić</td>\n",
       "      <td>25.783333</td>\n",
       "    </tr>\n",
       "    <tr>\n",
       "      <th>338</th>\n",
       "      <td>David Robinson*</td>\n",
       "      <td>25.669231</td>\n",
       "    </tr>\n",
       "    <tr>\n",
       "      <th>823</th>\n",
       "      <td>Kevin Durant</td>\n",
       "      <td>25.154545</td>\n",
       "    </tr>\n",
       "    <tr>\n",
       "      <th>242</th>\n",
       "      <td>Chris Paul</td>\n",
       "      <td>24.668750</td>\n",
       "    </tr>\n",
       "  </tbody>\n",
       "</table>\n",
       "</div>"
      ],
      "text/plain": [
       "                 player        per\n",
       "1008    Michael Jordan*  27.769231\n",
       "889        LeBron James  27.316667\n",
       "68        Anthony Davis  27.262500\n",
       "1500    Zion Williamson  27.100000\n",
       "1291  Shaquille O'Neal*  26.756250\n",
       "716         Joel Embiid  26.275000\n",
       "1080       Nikola Jokić  25.783333\n",
       "338     David Robinson*  25.669231\n",
       "823        Kevin Durant  25.154545\n",
       "242          Chris Paul  24.668750"
      ]
     },
     "execution_count": 44,
     "metadata": {},
     "output_type": "execute_result"
    }
   ],
   "source": [
    "#player efficiency rating\n",
    "#FORMULA = (PTS + REB + AST + STL + BLK − Missed FG − Missed FT - TO) / GP\n",
    "nba_eff = nba_min_over.groupby('player').per.mean().reset_index().sort_values('per', ascending=False)\n",
    "nba_eff.head(10)"
   ]
  }
 ],
 "metadata": {
  "kernelspec": {
   "display_name": "Python 3 (ipykernel)",
   "language": "python",
   "name": "python3"
  },
  "language_info": {
   "codemirror_mode": {
    "name": "ipython",
    "version": 3
   },
   "file_extension": ".py",
   "mimetype": "text/x-python",
   "name": "python",
   "nbconvert_exporter": "python",
   "pygments_lexer": "ipython3",
   "version": "3.9.12"
  }
 },
 "nbformat": 4,
 "nbformat_minor": 5
}
